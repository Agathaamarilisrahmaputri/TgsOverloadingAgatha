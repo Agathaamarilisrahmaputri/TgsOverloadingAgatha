{
  "nbformat": 4,
  "nbformat_minor": 0,
  "metadata": {
    "colab": {
      "provenance": [],
      "include_colab_link": true
    },
    "kernelspec": {
      "name": "python3",
      "display_name": "Python 3"
    },
    "language_info": {
      "name": "python"
    }
  },
  "cells": [
    {
      "cell_type": "markdown",
      "metadata": {
        "id": "view-in-github",
        "colab_type": "text"
      },
      "source": [
        "<a href=\"https://colab.research.google.com/github/Agathaamarilisrahmaputri/TgsOverloadingAgatha/blob/main/Copy_of_Tugas_Overloading.ipynb\" target=\"_parent\"><img src=\"https://colab.research.google.com/assets/colab-badge.svg\" alt=\"Open In Colab\"/></a>"
      ]
    },
    {
      "cell_type": "code",
      "execution_count": 3,
      "metadata": {
        "id": "cytAUNWzM1-6",
        "colab": {
          "base_uri": "https://localhost:8080/"
        },
        "outputId": "ed34d73b-b460-4428-ffa5-ac9d60852f5a"
      },
      "outputs": [
        {
          "output_type": "stream",
          "name": "stdout",
          "text": [
            "6\n",
            "18\n",
            "24\n"
          ]
        }
      ],
      "source": [
        "#Buat Perkalian yang memiliki Sebuah fungsi dangan nama Hitung\n",
        "class Perkalian:\n",
        "    def hasil(self, *args):\n",
        "        if (len(args) <= 5):\n",
        "            sum = 1\n",
        "            for num in args:\n",
        "                sum *= num\n",
        "            print(sum)\n",
        "        else:\n",
        "            print(\"Maksimum 5 argumen\")\n",
        "#method hasil() dengan variasi parameter\n",
        "coba = Perkalian()\n",
        "\n",
        "coba.hasil(2, 3)\n",
        "coba.hasil(2, 3, 3)\n",
        "coba.hasil(1, 2, 3, 4)\n",
        "\n"
      ]
    },
    {
      "cell_type": "code",
      "source": [
        "#Buat main program\n",
        "#Panggil fungsi Hitung untuk menghitung 2 parameter\n",
        "#Panggil fungsi Hitung untuk menghitung 3 parameter\n",
        "#Panggil fungsi Hitung untuk menghitung 4 parameter"
      ],
      "metadata": {
        "id": "W9hN-kX7PDUI"
      },
      "execution_count": null,
      "outputs": []
    }
  ]
}